{
  "nbformat": 4,
  "nbformat_minor": 0,
  "metadata": {
    "colab": {
      "provenance": [],
      "authorship_tag": "ABX9TyOkhm6j7d2nz1TAbQ9+58hB",
      "include_colab_link": true
    },
    "kernelspec": {
      "name": "python3",
      "display_name": "Python 3"
    },
    "language_info": {
      "name": "python"
    }
  },
  "cells": [
    {
      "cell_type": "markdown",
      "metadata": {
        "id": "view-in-github",
        "colab_type": "text"
      },
      "source": [
        "<a href=\"https://colab.research.google.com/github/JesusjrGalvez/oop/blob/main/oop_04.ipynb\" target=\"_parent\"><img src=\"https://colab.research.google.com/assets/colab-badge.svg\" alt=\"Open In Colab\"/></a>"
      ]
    },
    {
      "cell_type": "markdown",
      "source": [
        "Example taken from https://realpython.com/python-super/"
      ],
      "metadata": {
        "id": "jU3l6UU-HU_b"
      }
    },
    {
      "cell_type": "code",
      "execution_count": 55,
      "metadata": {
        "id": "uhK4_C1HBYHo"
      },
      "outputs": [],
      "source": [
        "class Rectangle:\n",
        "    def __init__(self, length, width):\n",
        "        self.length = length\n",
        "        self.width = width\n",
        "\n",
        "    def area(self):\n",
        "        return self.length * self.width\n",
        "\n",
        "    def perimeter(self):\n",
        "        return 2 * self.length + 2 * self.width\n",
        "\n",
        "class Square:\n",
        "    def __init__(self, length):\n",
        "        self.length = length\n",
        "\n",
        "    def area(self):\n",
        "        return self.length * self.length\n",
        "\n",
        "    def perimeter(self):\n",
        "        return 4 * self.length"
      ]
    },
    {
      "cell_type": "code",
      "source": [
        "rec1 = Rectangle(10, 5)\n",
        "# Notice that methods have to be call, otherwise it returns a method object\n",
        "print(rec1.area)\n",
        "\n",
        "print(rec1.area())\n",
        "print(rec1.perimeter())\n",
        "\n",
        "square1 = Square(5)\n",
        "print(square1.area())"
      ],
      "metadata": {
        "colab": {
          "base_uri": "https://localhost:8080/"
        },
        "id": "vWN0CSriBn_C",
        "outputId": "7c79eb6e-7d80-44d2-fb40-07b468d25a04"
      },
      "execution_count": 56,
      "outputs": [
        {
          "output_type": "stream",
          "name": "stdout",
          "text": [
            "<bound method Rectangle.area of <__main__.Rectangle object at 0x7fbdac65ced0>>\n",
            "50\n",
            "30\n",
            "25\n"
          ]
        }
      ]
    },
    {
      "cell_type": "markdown",
      "source": [
        "By using inheritance, you can reduce the amount of code you write while simultaneously reflecting the real-world relationship between rectangles and squares:"
      ],
      "metadata": {
        "id": "axn_1Q7tCJrx"
      }
    },
    {
      "cell_type": "code",
      "source": [
        "class Rectangle:\n",
        "    def __init__(self, length, width):\n",
        "        self.length = length\n",
        "        self.width = width\n",
        "\n",
        "    def area(self):\n",
        "        return self.length * self.width\n",
        "\n",
        "    def perimeter(self):\n",
        "        return 2 * self.length + 2 * self.width\n",
        "\n",
        "# Here we declare that the Square class inherits from the Rectangle class. \n",
        "# From __init__ only length is inherited. \n",
        "# area and perimeter method are also inherited. \n",
        "class Square(Rectangle):\n",
        "    def __init__(self, length):\n",
        "        # This maps the square's length to the rectangle's lenght\n",
        "        # and the square's length to the rectangle's width. \n",
        "        super().__init__(length, length)\n",
        "\n",
        "square2 = Square(6)\n",
        "print(square2.area())\n",
        "print(square2.perimeter())"
      ],
      "metadata": {
        "colab": {
          "base_uri": "https://localhost:8080/"
        },
        "id": "WVosEAbYCKWR",
        "outputId": "52dde872-eb51-4414-fe23-e83bffa045b8"
      },
      "execution_count": 57,
      "outputs": [
        {
          "output_type": "stream",
          "name": "stdout",
          "text": [
            "36\n",
            "24\n"
          ]
        }
      ]
    },
    {
      "cell_type": "markdown",
      "source": [
        "Here you have implemented two methods for the Cube class: .surface_area() and .volume(). Both of these calculations rely on calculating the area of a single face, so rather than reimplementing the area calculation, you use super() to extend the area calculation."
      ],
      "metadata": {
        "id": "S0scUkPsGqzE"
      }
    },
    {
      "cell_type": "code",
      "source": [
        "# A cube is a square in 3D. \n",
        "# Here the cube is inheriting from the Square class. \n",
        "\n",
        "class Cube(Square):\n",
        "    # Note that it inherits the __init__ method the super class (Square)\n",
        "    # area is inherited from the Rectangle class through Square. \n",
        "    def surface_area(self):\n",
        "        face_area = super().area()\n",
        "        return face_area * 6\n",
        "\n",
        "    def volume(self):\n",
        "        face_area = super().area()\n",
        "        return face_area * self.length"
      ],
      "metadata": {
        "id": "gLmMJL9VCbF5"
      },
      "execution_count": 58,
      "outputs": []
    },
    {
      "cell_type": "code",
      "source": [
        "cube1 = Cube(5)\n",
        "print(\"\\n---\")\n",
        "print(cube1.area())\n",
        "print(cube1.perimeter())  \n",
        "print(\"----\")\n",
        "print(cube1.surface_area())\n",
        "print(cube1.volume())\n"
      ],
      "metadata": {
        "colab": {
          "base_uri": "https://localhost:8080/"
        },
        "id": "j0aBuIrjE0vv",
        "outputId": "eeeef72f-eee0-4a6b-b3b2-bb0815cc7d27"
      },
      "execution_count": 59,
      "outputs": [
        {
          "output_type": "stream",
          "name": "stdout",
          "text": [
            "\n",
            "---\n",
            "25\n",
            "20\n",
            "----\n",
            "150\n",
            "125\n"
          ]
        }
      ]
    },
    {
      "cell_type": "markdown",
      "source": [
        "### Multiple Inheritance"
      ],
      "metadata": {
        "id": "BnRJ27ADNRD5"
      }
    },
    {
      "cell_type": "code",
      "source": [
        "class Triangle:\n",
        "    def __init__(self, base, height):\n",
        "        self.base = base\n",
        "        self.height = height\n",
        "\n",
        "    def tri_area(self):\n",
        "        return 0.5 * self.base * self.height\n",
        "\n",
        "class RightPyramid(Triangle, Square): # right pyramid is a pyramid with a square base.\n",
        "    def __init__(self, base, slant_height):\n",
        "        self.base = base\n",
        "        self.slant_height = slant_height\n",
        "\n",
        "    def area(self):\n",
        "        base_area = super().area() # This looks for area in Triangle, but since\n",
        "        # .area is not there, it then looks for it in \n",
        "        perimeter = super().perimeter()\n",
        "        return 0.5 * perimeter * self.slant_height + base_area"
      ],
      "metadata": {
        "id": "XTQGOcXGNXqe"
      },
      "execution_count": 60,
      "outputs": []
    },
    {
      "cell_type": "code",
      "source": [
        "# class Triangle:\n",
        "#     def __init__(self, base, height):\n",
        "#         self.base = base\n",
        "#         self.height = height\n",
        "\n",
        "#     def area(self):\n",
        "#         return 0.5 * self.base * self.height\n",
        "\n",
        "# class Triangle_Prism(Triangle, Square):\n",
        "#     def __init__(self, base, height):\n",
        "#         self.base = base\n",
        "#         self.height = height\n",
        "\n",
        "#    def area(self):\n",
        "#        return "
      ],
      "metadata": {
        "id": "aAK6PZP6ORd6"
      },
      "execution_count": 61,
      "outputs": []
    },
    {
      "cell_type": "markdown",
      "source": [
        "### Method Resolution Order\n",
        "\n",
        "MRO is used to check from which parent class is a method inherited"
      ],
      "metadata": {
        "id": "Z9Oi73apaFft"
      }
    },
    {
      "cell_type": "code",
      "source": [
        "RightPyramid.__mro__"
      ],
      "metadata": {
        "colab": {
          "base_uri": "https://localhost:8080/"
        },
        "id": "R8ojxnLraBml",
        "outputId": "fea1c7b0-4707-44d9-8f07-92e1b496d68e"
      },
      "execution_count": 62,
      "outputs": [
        {
          "output_type": "execute_result",
          "data": {
            "text/plain": [
              "(__main__.RightPyramid,\n",
              " __main__.Triangle,\n",
              " __main__.Square,\n",
              " __main__.Rectangle,\n",
              " object)"
            ]
          },
          "metadata": {},
          "execution_count": 62
        }
      ]
    },
    {
      "cell_type": "markdown",
      "source": [
        "This tells us that methods will be searched first in Rightpyramid, then in Triangle, then in Square, then Rectangle, and then, if nothing is found, in object, from which all classes originate."
      ],
      "metadata": {
        "id": "kFB6UwH8aXeu"
      }
    },
    {
      "cell_type": "markdown",
      "source": [],
      "metadata": {
        "id": "MlGnhbX2aEwD"
      }
    },
    {
      "cell_type": "code",
      "source": [
        "class RightPyramid(Square, Triangle):\n",
        "    def __init__(self, base, slant_height):\n",
        "        self.base = base\n",
        "        self.slant_height = slant_height\n",
        "        super().__init__(self.base)\n",
        "\n",
        "    def area(self):\n",
        "        base_area = super().area()\n",
        "        perimeter = super().perimeter()\n",
        "        return 0.5 * perimeter * self.slant_height + base_area"
      ],
      "metadata": {
        "id": "H-fcKXJEa8ml"
      },
      "execution_count": 63,
      "outputs": []
    },
    {
      "cell_type": "code",
      "source": [
        "pyramid = RightPyramid(2, 4)\n",
        "RightPyramid.__mro__\n",
        "\n"
      ],
      "metadata": {
        "colab": {
          "base_uri": "https://localhost:8080/"
        },
        "id": "z6F2dKW1a_eF",
        "outputId": "376d9858-655b-4f2d-c70c-12462cf54776"
      },
      "execution_count": 64,
      "outputs": [
        {
          "output_type": "execute_result",
          "data": {
            "text/plain": [
              "(__main__.RightPyramid,\n",
              " __main__.Square,\n",
              " __main__.Rectangle,\n",
              " __main__.Triangle,\n",
              " object)"
            ]
          },
          "metadata": {},
          "execution_count": 64
        }
      ]
    },
    {
      "cell_type": "code",
      "source": [],
      "metadata": {
        "id": "yiu8tBQKbszn"
      },
      "execution_count": 65,
      "outputs": []
    },
    {
      "cell_type": "markdown",
      "source": [],
      "metadata": {
        "id": "R49AacuAa_Ru"
      }
    }
  ]
}