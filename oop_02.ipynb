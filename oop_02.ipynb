{
  "nbformat": 4,
  "nbformat_minor": 0,
  "metadata": {
    "colab": {
      "provenance": [],
      "authorship_tag": "ABX9TyMt50CFBRsDKxC0bIpCocD3",
      "include_colab_link": true
    },
    "kernelspec": {
      "name": "python3",
      "display_name": "Python 3"
    },
    "language_info": {
      "name": "python"
    }
  },
  "cells": [
    {
      "cell_type": "markdown",
      "metadata": {
        "id": "view-in-github",
        "colab_type": "text"
      },
      "source": [
        "<a href=\"https://colab.research.google.com/github/JesusjrGalvez/oop/blob/main/oop_02.ipynb\" target=\"_parent\"><img src=\"https://colab.research.google.com/assets/colab-badge.svg\" alt=\"Open In Colab\"/></a>"
      ]
    },
    {
      "cell_type": "code",
      "execution_count": 167,
      "metadata": {
        "id": "ATUTU6jZY0b-"
      },
      "outputs": [],
      "source": [
        "# This is a sample Python script.\n",
        "import csv\n",
        "import math"
      ]
    },
    {
      "cell_type": "markdown",
      "source": [
        "### Create class Human"
      ],
      "metadata": {
        "id": "HUKVGcuFZItU"
      }
    },
    {
      "cell_type": "code",
      "source": [
        "zero = set()\n",
        "a = set([\"Jesus\"])\n",
        "print(a)\n",
        "b = \"Jesus\"\n",
        "if b in a:\n",
        "  pass\n",
        "else:\n",
        "  a.add(b)\n",
        "#add_to_set([\"Maria\"])\n",
        "print(a)\n",
        "print(zero)"
      ],
      "metadata": {
        "colab": {
          "base_uri": "https://localhost:8080/"
        },
        "id": "QUwIJ5Sojg0D",
        "outputId": "c2388886-7f4c-4c2f-9115-4be38521fbda"
      },
      "execution_count": null,
      "outputs": [
        {
          "output_type": "stream",
          "name": "stdout",
          "text": [
            "{'Jesus'}\n",
            "{'Jesus'}\n",
            "set()\n"
          ]
        }
      ]
    },
    {
      "cell_type": "code",
      "source": [
        "class Human():\n",
        "    zero = set()\n",
        "    #print(zero)\n",
        "    all = []\n",
        "    growth = 10\n",
        "    def __init__(self, name, height, weight):\n",
        "        print(all)\n",
        "        print(zero)\n",
        "        #print(self.name)\n",
        "        if name in zero:\n",
        "          return\n",
        "        else:\n",
        "          self.name = name\n",
        "          self.height = height\n",
        "          self.weight = weight\n",
        "          Human.all.append(name)\n",
        "          Human.zero.add(name)\n",
        "        #self.bmi = bmi\n",
        "    def __repr__(self):\n",
        "        #__repr__ stands for represent\n",
        "        # This is use to print(object) = {Human(\"name\", height, weight)\n",
        "        # That way it has the same format as when creating an object. \n",
        "        # If you don't add this method it will return <__main__.Human object at 0x7f1834b98250>\n",
        "        return f\"Human('{self.name}',{self.height},{self.weight})\"  #represent as f-strings\n",
        "\n",
        "    def calculate_bmi(self):\n",
        "        self.bmi = self.weight/(math.pow(self.height*0.01, 2))\n",
        "        print(f\"BMI = {self.bmi}\")\n",
        "\n",
        "    def grow(self):\n",
        "        self.height = self.height + self.growth\n",
        "\n",
        "    def grow_by(self, amount):\n",
        "        self.height = self.height + amount\n",
        "\n",
        "    @classmethod\n",
        "    def instanciate_people(cls):\n",
        "        with open(\"items.csv\", 'r') as file:\n",
        "            csvFile = csv.DictReader(file)\n",
        "            items = list(csvFile)\n",
        "        #print(items)\n",
        "        for item in items:\n",
        "            #print(item)\n",
        "            # These are two ways of getting the value of a key in a dictionary.\n",
        "            Human(\n",
        "                name = item['name'],\n",
        "                height = float(item['height']),\n",
        "                weight = float(item['weight'])\n",
        "            )\n",
        "                #name = item.get('name'),\n",
        "                #height = float(item.get('height')),\n",
        "                #weight = float(item.get('weight'))\n",
        "            #)\n",
        "\n",
        "    @classmethod\n",
        "    def change_growth(cls, growth):\n",
        "        cls.growth = growth\n",
        "\n",
        "\n",
        "    @staticmethod\n",
        "    def is_integer(n):\n",
        "        #We will count out the decimals that are .0, ej, 10.0\n",
        "        if isinstance(n, float):\n",
        "            return n.is_integer()\n",
        "        elif isinstance(n, int):\n",
        "            return True\n",
        "        else:\n",
        "            return False\n"
      ],
      "metadata": {
        "id": "ER7nJtztY8bZ"
      },
      "execution_count": 168,
      "outputs": []
    },
    {
      "cell_type": "markdown",
      "source": [
        "### Instanciate two humans"
      ],
      "metadata": {
        "id": "ZurcmrqdgWYb"
      }
    },
    {
      "cell_type": "code",
      "source": [
        "print(Human.all)\n",
        "jesus = Human(\"Jesus\", 183, 80)\n",
        "maria = Human(\"Maria\", 160, 48)\n",
        "jesus2 = Human(\"Jesus\", 150, 50)\n",
        "#jesus\n",
        "#maria\n",
        "print(Human.all)\n",
        "print(Human.zero)"
      ],
      "metadata": {
        "colab": {
          "base_uri": "https://localhost:8080/"
        },
        "id": "kOceZ7PTb22b",
        "outputId": "f11faf8e-ad2d-4b77-803d-5a6d75f35763"
      },
      "execution_count": 170,
      "outputs": [
        {
          "output_type": "stream",
          "name": "stdout",
          "text": [
            "['Jesus', 'Maria', 'Jesus']\n",
            "<built-in function all>\n",
            "set()\n",
            "<built-in function all>\n",
            "set()\n",
            "<built-in function all>\n",
            "set()\n",
            "['Jesus', 'Maria', 'Jesus', 'Jesus', 'Maria', 'Jesus']\n",
            "{'Jesus', 'Maria'}\n"
          ]
        }
      ]
    },
    {
      "cell_type": "code",
      "source": [
        "jesus.all"
      ],
      "metadata": {
        "colab": {
          "base_uri": "https://localhost:8080/"
        },
        "id": "pi-8DWUNfEC0",
        "outputId": "7bfe665c-351d-40ce-b276-e0e04a4145de"
      },
      "execution_count": null,
      "outputs": [
        {
          "output_type": "execute_result",
          "data": {
            "text/plain": [
              "{Human('Jesus',183,80),\n",
              " Human('Jesus',183,80),\n",
              " Human('Jesus',183,80),\n",
              " Human('Jesus',183,80),\n",
              " Human('Maria',160,48),\n",
              " Human('Maria',160,48),\n",
              " Human('Maria',160,48),\n",
              " Human('Maria',160,48)}"
            ]
          },
          "metadata": {},
          "execution_count": 74
        }
      ]
    },
    {
      "cell_type": "code",
      "source": [
        "print(jesus.all)"
      ],
      "metadata": {
        "colab": {
          "base_uri": "https://localhost:8080/"
        },
        "id": "ZhUiymX4fF3E",
        "outputId": "d2db11bf-15ae-4bdd-89fc-deb569983713"
      },
      "execution_count": null,
      "outputs": [
        {
          "output_type": "stream",
          "name": "stdout",
          "text": [
            "{Human('Jesus',183,80), Human('Jesus',183,80), Human('Jesus',183,80), Human('Maria',160,48), Human('Maria',160,48), Human('Maria',160,48), Human('Jesus',183,80), Human('Maria',160,48)}\n"
          ]
        }
      ]
    },
    {
      "cell_type": "code",
      "source": [
        "jesus.height"
      ],
      "metadata": {
        "colab": {
          "base_uri": "https://localhost:8080/"
        },
        "id": "bwqhjj_ifWaR",
        "outputId": "13d0708a-0bbf-4b40-ef3d-33ccf1c8d79d"
      },
      "execution_count": null,
      "outputs": [
        {
          "output_type": "execute_result",
          "data": {
            "text/plain": [
              "183"
            ]
          },
          "metadata": {},
          "execution_count": 76
        }
      ]
    },
    {
      "cell_type": "code",
      "source": [
        "jesus.grow()\n",
        "jesus.height"
      ],
      "metadata": {
        "colab": {
          "base_uri": "https://localhost:8080/"
        },
        "id": "Q-5mbRVYfYgx",
        "outputId": "301fbd10-14b1-4e7b-b91e-58d8572f0923"
      },
      "execution_count": null,
      "outputs": [
        {
          "output_type": "execute_result",
          "data": {
            "text/plain": [
              "193"
            ]
          },
          "metadata": {},
          "execution_count": 77
        }
      ]
    },
    {
      "cell_type": "code",
      "source": [
        "jesus.grow_by(10)\n",
        "jesus.height"
      ],
      "metadata": {
        "colab": {
          "base_uri": "https://localhost:8080/"
        },
        "id": "dK8pNvWOfogA",
        "outputId": "33568152-3a6e-4efb-a84f-4df107fde172"
      },
      "execution_count": null,
      "outputs": [
        {
          "output_type": "execute_result",
          "data": {
            "text/plain": [
              "203"
            ]
          },
          "metadata": {},
          "execution_count": 78
        }
      ]
    },
    {
      "cell_type": "code",
      "source": [
        "maria.grow_by(10)\n",
        "maria.height"
      ],
      "metadata": {
        "colab": {
          "base_uri": "https://localhost:8080/"
        },
        "id": "zgtvhF-vgNBd",
        "outputId": "9382e3fd-5d29-4b8e-fa91-8947cd105ad7"
      },
      "execution_count": null,
      "outputs": [
        {
          "output_type": "execute_result",
          "data": {
            "text/plain": [
              "170"
            ]
          },
          "metadata": {},
          "execution_count": 79
        }
      ]
    },
    {
      "cell_type": "code",
      "source": [
        "class Car:\n",
        "    pass\n",
        "    def __init__(self, year):\n",
        "        self.year = year\n",
        "\n",
        "jesus = Human((\"Jesus\", 183, 82))\n",
        "#print(Human.all)\n",
        "    #print(Human.all)\n",
        "    #maria = Human(\"Maria\", 160, 48)\n",
        "    #print(Human.all)\n",
        "    #print(f\"Human name is {jesus.name}, human height is {jesus.height}\")\n",
        "    #print(jesus.height)\n",
        "    #jesus.calculate_bmi()\n",
        "    #jesus.growth=2\n",
        "    #jesus.grow()\n",
        "    #print(jesus.height)\n",
        "    #print(maria.growth)\n",
        "    #print(f\"Grwoth is {jesus.growth}\")\n",
        "    #print(jesus.bmi)\n",
        "    #jesus.calculate_bmi()\n",
        "    #print(jesus.bmi)\n",
        "\n",
        "\n",
        "#Human.instanciate_people()\n",
        "print(f\"all human instances{Human.all}\")\n",
        "print(Human.growth)\n",
        "Human.change_growth(2.5)\n",
        "print(Human.growth)\n",
        "# See PyCharm help at https://www.jetbrains.com/help/pycharm/\n",
        "for human in Human.all:\n",
        "    print(human)\n",
        "\n",
        "print(Human.is_integer(5.3))\n",
        "\n",
        "#mycar = Car()\n",
        "mycar2 = Car(2020)\n",
        "print(mycar2.year)\n",
        "mycar2.milage = 6\n",
        "print(mycar2.milage)\n"
      ],
      "metadata": {
        "colab": {
          "base_uri": "https://localhost:8080/",
          "height": 240
        },
        "id": "SlR35bQIZAN0",
        "outputId": "73b25f2e-bc15-46ca-b323-52bfbcc2be18"
      },
      "execution_count": null,
      "outputs": [
        {
          "output_type": "error",
          "ename": "TypeError",
          "evalue": "ignored",
          "traceback": [
            "\u001b[0;31m---------------------------------------------------------------------------\u001b[0m",
            "\u001b[0;31mTypeError\u001b[0m                                 Traceback (most recent call last)",
            "\u001b[0;32m<ipython-input-81-426cef545563>\u001b[0m in \u001b[0;36m<module>\u001b[0;34m\u001b[0m\n\u001b[1;32m      4\u001b[0m         \u001b[0mself\u001b[0m\u001b[0;34m.\u001b[0m\u001b[0myear\u001b[0m \u001b[0;34m=\u001b[0m \u001b[0myear\u001b[0m\u001b[0;34m\u001b[0m\u001b[0;34m\u001b[0m\u001b[0m\n\u001b[1;32m      5\u001b[0m \u001b[0;34m\u001b[0m\u001b[0m\n\u001b[0;32m----> 6\u001b[0;31m \u001b[0mjesus\u001b[0m \u001b[0;34m=\u001b[0m \u001b[0mHuman\u001b[0m\u001b[0;34m(\u001b[0m\u001b[0;34m(\u001b[0m\u001b[0;34m\"Jesus\"\u001b[0m\u001b[0;34m,\u001b[0m \u001b[0;36m183\u001b[0m\u001b[0;34m,\u001b[0m \u001b[0;36m82\u001b[0m\u001b[0;34m)\u001b[0m\u001b[0;34m)\u001b[0m\u001b[0;34m\u001b[0m\u001b[0;34m\u001b[0m\u001b[0m\n\u001b[0m\u001b[1;32m      7\u001b[0m \u001b[0;31m#print(Human.all)\u001b[0m\u001b[0;34m\u001b[0m\u001b[0;34m\u001b[0m\u001b[0;34m\u001b[0m\u001b[0m\n\u001b[1;32m      8\u001b[0m     \u001b[0;31m#print(Human.all)\u001b[0m\u001b[0;34m\u001b[0m\u001b[0;34m\u001b[0m\u001b[0;34m\u001b[0m\u001b[0m\n",
            "\u001b[0;31mTypeError\u001b[0m: __init__() missing 2 required positional arguments: 'height' and 'weight'"
          ]
        }
      ]
    },
    {
      "cell_type": "code",
      "source": [
        "\n",
        "class Car:\n",
        "    pass\n",
        "    def __init__(self, year):\n",
        "        self.year = year\n",
        "\n",
        "def print_hi(name):\n",
        "    # Use a breakpoint in the code line below to debug your script.\n",
        "    print(f'Hi, {name}')  # Press ⌘F8 to toggle the breakpoint.\n",
        "\n",
        "\n",
        "# Press the green button in the gutter to run the script.\n",
        "if __name__ == '__main__':\n",
        "    print_hi('PyCharm')\n",
        "    #jesus = Human(\"Jesus\", 183, 82)\n",
        "    #print(Human.all)\n",
        "    #maria = Human(\"Maria\", 160, 48)\n",
        "    #print(Human.all)\n",
        "    #print(f\"Human name is {jesus.name}, human height is {jesus.height}\")\n",
        "    #print(jesus.height)\n",
        "    #jesus.calculate_bmi()\n",
        "    #jesus.growth=2\n",
        "    #jesus.grow()\n",
        "    #print(jesus.height)\n",
        "    #print(maria.growth)\n",
        "    #print(f\"Grwoth is {jesus.growth}\")\n",
        "    #print(jesus.bmi)\n",
        "    #jesus.calculate_bmi()\n",
        "    #print(jesus.bmi)\n",
        "\n",
        "\n",
        "Human.instanciate_people()\n",
        "print(f\"all human instances{Human.all}\")\n",
        "print(Human.growth)\n",
        "Human.change_growth(2.5)\n",
        "print(Human.growth)\n",
        "# See PyCharm help at https://www.jetbrains.com/help/pycharm/\n",
        "for human in Human.all:\n",
        "    print(human)\n",
        "\n",
        "print(Human.is_integer(5.3))\n",
        "\n",
        "#mycar = Car()\n",
        "mycar2 = Car(2020)\n",
        "print(mycar2.year)\n",
        "mycar2.milage = 6\n",
        "print(mycar2.milage)\n"
      ],
      "metadata": {
        "id": "38hm46zzZEJr"
      },
      "execution_count": null,
      "outputs": []
    }
  ]
}